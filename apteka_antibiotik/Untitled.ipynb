{
 "cells": [
  {
   "cell_type": "code",
   "execution_count": 19,
   "id": "6966c8b9",
   "metadata": {},
   "outputs": [
    {
     "name": "stdout",
     "output_type": "stream",
     "text": [
      "True\n"
     ]
    }
   ],
   "source": [
    "import time\n",
    "import requests\n",
    "from bs4 import BeautifulSoup\n",
    "url = 'https://apteka-ot-sklada.ru/catalog/medikamenty-i-bady%2Fantibiotiki?start=0'# создать переменную для ссылки на сайт \n",
    "cookies = {'citi': '92'}\n",
    "request = requests.get(url, cookies) #запрос на сервер\n",
    "soup = BeautifulSoup(request.text,'lxml')# создали суп объект для того что бы делать поиск \n",
    "items = soup.find('div',{'class':'goods-grid__inner'}).find_all('div',{'class':'ui-card ui-card_size_default ui-card_outlined goods-card goods-grid__cell goods-grid__cell_size_3'}) # нашли тег по классу\n",
    "#print(len(items))\n",
    "for item in items: \n",
    "    in_stock = item.find(\"span\", {\"class\": \"ui-button__content\"}).text\n",
    "    if 'Добавить в корзину' in in_stock:\n",
    "        in_stock = True        \n",
    "    else:\n",
    "        in_stock = False \n",
    "    print(in_stock)\n",
    "    \n",
    "    break"
   ]
  }
 ],
 "metadata": {
  "kernelspec": {
   "display_name": "Python 3 (ipykernel)",
   "language": "python",
   "name": "python3"
  },
  "language_info": {
   "codemirror_mode": {
    "name": "ipython",
    "version": 3
   },
   "file_extension": ".py",
   "mimetype": "text/x-python",
   "name": "python",
   "nbconvert_exporter": "python",
   "pygments_lexer": "ipython3",
   "version": "3.10.5"
  }
 },
 "nbformat": 4,
 "nbformat_minor": 5
}
